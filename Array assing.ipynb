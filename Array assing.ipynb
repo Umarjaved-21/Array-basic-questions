{
 "cells": [
  {
   "cell_type": "code",
   "execution_count": 1,
   "id": "a3c549b1-00f2-4af4-abb9-63814abc664e",
   "metadata": {},
   "outputs": [
    {
     "name": "stdout",
     "output_type": "stream",
     "text": [
      "True\n"
     ]
    }
   ],
   "source": [
    "# 1. Given an array, check if it contains any duplicates or not.\n",
    "# arr = [1, 2, 4, 2, 5, 9]\n",
    "# Output = True\n",
    "\n",
    "arr = [1, 2, 4, 2, 5, 9]\n",
    "duplicates = len(arr) != len(set(arr))\n",
    "print(duplicates)"
   ]
  },
  {
   "cell_type": "code",
   "execution_count": 2,
   "id": "ea459efc-aef6-4d13-8fa0-58fc3ab1bf9d",
   "metadata": {},
   "outputs": [
    {
     "name": "stdout",
     "output_type": "stream",
     "text": [
      "[5, 6, 7, 1, 2, 3, 4]\n"
     ]
    }
   ],
   "source": [
    "# Given an array and an integer k, rotate the array to the right by k steps.\n",
    "# arr = [1, 2, 3, 4, 5, 6, 7] k = 3\n",
    "# Output = [5, 6, 7, 1, 2, 3, 4]\n",
    "\n",
    "arr = [1, 2, 3, 4, 5, 6, 7]\n",
    "k = 3\n",
    "\n",
    "rotated_arr = arr[-k:] + arr[:-k]\n",
    "\n",
    "print(rotated_arr)"
   ]
  },
  {
   "cell_type": "code",
   "execution_count": 3,
   "id": "16c4956b-0a13-4184-b511-266155674fac",
   "metadata": {},
   "outputs": [
    {
     "name": "stdout",
     "output_type": "stream",
     "text": [
      "[2, 4, 5, 7, 9, 12]\n"
     ]
    }
   ],
   "source": [
    "# 3. Reverse the given array in-place, means without using any extra data structure.\n",
    "# arr = [2, 4, 5, 7, 9, 12]\n",
    "# Output = [12, 9, 7, 5, 4, 2]\n",
    "\n",
    "arr = [2, 4, 5, 7, 9, 12]\n",
    "\n",
    "output = arr[-6:] + arr[:0]\n",
    "\n",
    "print(output)"
   ]
  },
  {
   "cell_type": "code",
   "execution_count": 4,
   "id": "0c0c1a2e-4b7b-4c9b-a9b8-82273fdb3a9f",
   "metadata": {},
   "outputs": [
    {
     "name": "stdout",
     "output_type": "stream",
     "text": [
      "20\n"
     ]
    }
   ],
   "source": [
    "# 4. Given an array of integers, find the maximum element in an array\n",
    "# arr = [10, 5, 20, 8, 15]\n",
    "# Output = 20\n",
    "\n",
    "\n",
    "arr = [10, 5, 20, 8, 15]\n",
    "\n",
    "output = max(arr)\n",
    "\n",
    "print(output)"
   ]
  },
  {
   "cell_type": "code",
   "execution_count": 5,
   "id": "4f69bf2d-79fc-4009-8fa6-0706e271fbc0",
   "metadata": {},
   "outputs": [
    {
     "name": "stdout",
     "output_type": "stream",
     "text": [
      "[1, 2, 3, 4, 5]\n"
     ]
    }
   ],
   "source": [
    "# Given a sorted array, remove the duplicate element without using any extra data structure.\n",
    "# arr = [1, 1, 2, 2, 2, 3, 3, 4, 4, 4, 5, 5]\n",
    "# Output = [1, 2, 3, 4, 5]\n",
    "\n",
    "arr = [1, 1, 2, 2, 2, 3, 3, 4, 4, 4, 5, 5]\n",
    "\n",
    "output = list(set(arr))\n",
    "\n",
    "print(output)"
   ]
  },
  {
   "cell_type": "code",
   "execution_count": null,
   "id": "eec654cd-6332-4049-b503-87c7a64e7c74",
   "metadata": {},
   "outputs": [],
   "source": []
  }
 ],
 "metadata": {
  "kernelspec": {
   "display_name": "Python 3 (ipykernel)",
   "language": "python",
   "name": "python3"
  },
  "language_info": {
   "codemirror_mode": {
    "name": "ipython",
    "version": 3
   },
   "file_extension": ".py",
   "mimetype": "text/x-python",
   "name": "python",
   "nbconvert_exporter": "python",
   "pygments_lexer": "ipython3",
   "version": "3.10.8"
  }
 },
 "nbformat": 4,
 "nbformat_minor": 5
}
